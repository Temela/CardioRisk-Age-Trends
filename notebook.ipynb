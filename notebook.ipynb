{
 "cells": [
  {
   "cell_type": "markdown",
   "id": "d866ae96",
   "metadata": {},
   "source": [
    "# 🫀 Are Cardiovascular Risks Increasing Across Age Groups?\n",
    "This notebook explores how heart disease risk varies across different age groups using a synthetic dataset."
   ]
  },
  {
   "cell_type": "code",
   "execution_count": null,
   "id": "4bc1e665",
   "metadata": {},
   "outputs": [],
   "source": [
    "import pandas as pd\n",
    "import matplotlib.pyplot as plt\n",
    "import seaborn as sns"
   ]
  },
  {
   "cell_type": "markdown",
   "id": "bc8ac5b5",
   "metadata": {},
   "source": [
    "## Load the Data"
   ]
  },
  {
   "cell_type": "code",
   "execution_count": null,
   "id": "684245b0",
   "metadata": {},
   "outputs": [],
   "source": [
    "df = pd.read_csv('data/heart_raw.csv')\n",
    "df.head()"
   ]
  },
  {
   "cell_type": "markdown",
   "id": "e889aedb",
   "metadata": {},
   "source": [
    "## Clean and Transform"
   ]
  },
  {
   "cell_type": "code",
   "execution_count": null,
   "id": "28736dc3",
   "metadata": {},
   "outputs": [],
   "source": [
    "df['age_group'] = pd.cut(df['age'], bins=[28, 39, 49, 59, 69, 80],\n",
    "                         labels=['30-39', '40-49', '50-59', '60-69', '70+'])"
   ]
  },
  {
   "cell_type": "markdown",
   "id": "7c854f18",
   "metadata": {},
   "source": [
    "## Analyze Heart Disease Risk by Age Group"
   ]
  },
  {
   "cell_type": "code",
   "execution_count": null,
   "id": "c8fbaa8a",
   "metadata": {},
   "outputs": [],
   "source": [
    "risk_by_age = df.groupby('age_group')['target'].mean().reset_index()\n",
    "risk_by_age"
   ]
  },
  {
   "cell_type": "markdown",
   "id": "f51bd71b",
   "metadata": {},
   "source": [
    "## Visualize"
   ]
  },
  {
   "cell_type": "code",
   "execution_count": null,
   "id": "ab932018",
   "metadata": {},
   "outputs": [],
   "source": [
    "plt.figure(figsize=(8,5))\n",
    "sns.barplot(data=risk_by_age, x='age_group', y='target', palette='viridis')\n",
    "plt.title('Heart Disease Risk by Age Group')\n",
    "plt.ylabel('Proportion with Heart Disease')\n",
    "plt.xlabel('Age Group')\n",
    "plt.tight_layout()\n",
    "plt.show()"
   ]
  }
 ],
 "metadata": {},
 "nbformat": 4,
 "nbformat_minor": 5
}
